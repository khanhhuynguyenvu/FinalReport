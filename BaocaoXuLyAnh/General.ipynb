{
 "cells": [
  {
   "cell_type": "code",
   "execution_count": 1,
   "metadata": {},
   "outputs": [
    {
     "name": "stdout",
     "output_type": "stream",
     "text": [
      "I found 2 face(s) in this photograph.\n",
      "The chin in this face has the following points: [(789, 129), (788, 150), (787, 171), (788, 191), (795, 211), (808, 227), (824, 239), (842, 249), (862, 253), (881, 254), (897, 247), (911, 236), (921, 222), (928, 206), (933, 188), (937, 171), (940, 153)]\n",
      "The left_eyebrow in this face has the following points: [(821, 110), (831, 102), (845, 101), (860, 104), (872, 111)]\n",
      "The right_eyebrow in this face has the following points: [(891, 117), (905, 116), (918, 118), (929, 124), (935, 135)]\n",
      "The nose_bridge in this face has the following points: [(881, 128), (880, 141), (880, 154), (879, 167)]\n",
      "The nose_tip in this face has the following points: [(857, 174), (865, 178), (874, 181), (881, 181), (888, 180)]\n",
      "The left_eye in this face has the following points: [(834, 124), (843, 122), (851, 124), (858, 129), (850, 129), (841, 127)]\n",
      "The right_eye in this face has the following points: [(896, 138), (906, 136), (914, 138), (920, 143), (913, 144), (904, 142)]\n",
      "The top_lip in this face has the following points: [(838, 198), (852, 196), (863, 196), (870, 200), (878, 199), (887, 203), (895, 209), (891, 207), (877, 203), (869, 202), (862, 200), (842, 198)]\n",
      "The bottom_lip in this face has the following points: [(895, 209), (884, 210), (875, 208), (867, 207), (859, 205), (850, 202), (838, 198), (842, 198), (861, 199), (869, 201), (877, 202), (891, 207)]\n",
      "The chin in this face has the following points: [(231, 119), (233, 138), (235, 156), (239, 175), (247, 192), (260, 205), (277, 215), (296, 222), (317, 226), (337, 225), (352, 218), (365, 206), (373, 192), (378, 177), (382, 161), (384, 144), (385, 129)]\n",
      "The left_eyebrow in this face has the following points: [(259, 92), (270, 81), (285, 74), (301, 73), (317, 78)]\n",
      "The right_eyebrow in this face has the following points: [(339, 80), (352, 78), (366, 82), (377, 91), (382, 105)]\n",
      "The nose_bridge in this face has the following points: [(328, 95), (328, 105), (329, 114), (329, 124)]\n",
      "The nose_tip in this face has the following points: [(306, 138), (315, 140), (326, 143), (334, 142), (343, 141)]\n",
      "The left_eye in this face has the following points: [(275, 101), (284, 95), (293, 95), (302, 101), (293, 102), (284, 102)]\n",
      "The right_eye in this face has the following points: [(344, 106), (353, 102), (362, 104), (369, 111), (361, 110), (352, 108)]\n",
      "The top_lip in this face has the following points: [(285, 170), (301, 160), (314, 156), (324, 158), (332, 157), (342, 164), (351, 176), (346, 175), (332, 167), (323, 166), (313, 165), (291, 170)]\n",
      "The bottom_lip in this face has the following points: [(351, 176), (340, 178), (330, 178), (321, 178), (311, 176), (299, 174), (285, 170), (291, 170), (313, 167), (322, 168), (331, 169), (346, 175)]\n"
     ]
    }
   ],
   "source": [
    "from PIL import Image, ImageDraw\n",
    "import face_recognition\n",
    "\n",
    "# Load the jpg file into a numpy array\n",
    "image = face_recognition.load_image_file(\"two_people.jpg\")\n",
    "\n",
    "# Find all facial features in all the faces in the image\n",
    "face_landmarks_list = face_recognition.face_landmarks(image)\n",
    "\n",
    "print(\"I found {} face(s) in this photograph.\".format(len(face_landmarks_list)))\n",
    "\n",
    "# Create a PIL imagedraw object so we can draw on the picture\n",
    "pil_image = Image.fromarray(image)\n",
    "d = ImageDraw.Draw(pil_image)\n",
    "\n",
    "for face_landmarks in face_landmarks_list:\n",
    "\n",
    "    # Print the location of each facial feature in this image\n",
    "    for facial_feature in face_landmarks.keys():\n",
    "        print(\"The {} in this face has the following points: {}\".format(facial_feature, face_landmarks[facial_feature]))\n",
    "\n",
    "    # Let's trace out each facial feature in the image with a line!\n",
    "    for facial_feature in face_landmarks.keys():\n",
    "        d.line(face_landmarks[facial_feature], width=5)\n",
    "\n",
    "# Show the picture\n",
    "pil_image.show()\n"
   ]
  },
  {
   "cell_type": "code",
   "execution_count": null,
   "metadata": {},
   "outputs": [],
   "source": []
  }
 ],
 "metadata": {
  "kernelspec": {
   "display_name": "Python 3",
   "language": "python",
   "name": "python3"
  },
  "language_info": {
   "codemirror_mode": {
    "name": "ipython",
    "version": 3
   },
   "file_extension": ".py",
   "mimetype": "text/x-python",
   "name": "python",
   "nbconvert_exporter": "python",
   "pygments_lexer": "ipython3",
   "version": "3.8.3"
  }
 },
 "nbformat": 4,
 "nbformat_minor": 4
}
